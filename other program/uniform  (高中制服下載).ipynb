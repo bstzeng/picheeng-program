{
 "cells": [
  {
   "cell_type": "code",
   "execution_count": null,
   "metadata": {
    "scrolled": false
   },
   "outputs": [
    {
     "name": "stdout",
     "output_type": "stream",
     "text": [
      "1\n",
      "2\n",
      "3\n",
      "4\n",
      "5\n",
      "6\n",
      "7\n",
      "8\n",
      "9\n",
      "10\n",
      "11\n",
      "12\n",
      "13\n",
      "14\n",
      "15\n",
      "16\n",
      "17\n",
      "18\n",
      "19\n",
      "20\n",
      "21\n",
      "22\n",
      "23\n",
      "24\n",
      "25\n",
      "26\n",
      "27\n",
      "28\n",
      "29\n",
      "30\n",
      "31\n",
      "32\n",
      "33\n"
     ]
    }
   ],
   "source": [
    "import requests\n",
    "import os\n",
    "from bs4 import BeautifulSoup\n",
    "資料夾=\"uniform\"\n",
    "#r = requests.get(\"http://uniform.wingzero.tw/school/album/tw/\"+str(dd)+\"/\"+str(bb)) #將網頁資料GET下來\n",
    "#soup = BeautifulSoup(r.text,\"html.parser\") #將網頁資料以html.parser\n",
    "newpic=1\n",
    "for dd in range(1,555):\n",
    "    print (dd)\n",
    "    for bb in range(1,50):\n",
    "        r = requests.get(\"http://uniform.wingzero.tw/school/album/tw/\"+str(dd)+\"/\"+str(bb)) #將網頁資料GET下來\n",
    "        soup = BeautifulSoup(r.text,\"html.parser\") #將網頁資料以html.parser\n",
    "        # print(soup.prettify())\n",
    "        #print(dd,\"-\",bb)\n",
    "   \n",
    "        sel = soup.select(\"div.box img\") #取HTML標中的 <div class=\"title\"></div> 中的<a>標籤存入sel\n",
    "        #print(soup.select(\"div.span\"))\n",
    "        #print (dd,\"-\",bb,\"-\",len(sel))\n",
    "        if len(sel)>0 :\n",
    "            a=[]\n",
    "            for s in sel:\n",
    "                a.append(s[\"data-src\"])\n",
    "            #print(a)\n",
    "            #print(a[0].split(\"/\",-1)[-1])\n",
    "            temp=str(soup.title)\n",
    "            school=(temp.split(\">\",-1)[1].split(\" \",-1)[0])\n",
    "            #print(school)\n",
    "            for c in a:\n",
    "                path = 'C:\\\\Users\\\\picheeng\\\\Desktop\\\\python\\\\'+資料夾+'\\\\'+ school \n",
    "                filepath = 資料夾+\"\\\\\"+school+\"\\\\\"+c.split(\"/\", -1)[-1]\n",
    "                if not os.path.isdir(path):\n",
    "                    os.mkdir(path)\n",
    "                if os.path.isfile(filepath):\n",
    "                    filepath=filepath\n",
    "                else:\n",
    "                    pic=requests.get(c)\n",
    "                    img2 = pic.content\n",
    "                    print(str(filepath)+\"已下載 \"+str(newpic))\n",
    "                    newpic=newpic+1\n",
    "                    pic_out = open(資料夾+\"\\\\\"+school+\"\\\\\"+c.split(\"/\", -1)[-1] ,'wb')\n",
    "                    pic_out.write(img2)\n",
    "                    pic_out.close()\n",
    "        else:\n",
    "            break\n",
    "print(\"done\")\n"
   ]
  },
  {
   "cell_type": "code",
   "execution_count": null,
   "metadata": {},
   "outputs": [],
   "source": []
  }
 ],
 "metadata": {
  "kernelspec": {
   "display_name": "Python 3",
   "language": "python",
   "name": "python3"
  },
  "language_info": {
   "codemirror_mode": {
    "name": "ipython",
    "version": 3
   },
   "file_extension": ".py",
   "mimetype": "text/x-python",
   "name": "python",
   "nbconvert_exporter": "python",
   "pygments_lexer": "ipython3",
   "version": "3.8.3"
  }
 },
 "nbformat": 4,
 "nbformat_minor": 2
}
